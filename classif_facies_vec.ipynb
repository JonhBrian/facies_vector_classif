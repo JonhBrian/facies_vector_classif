{
 "cells": [
  {
   "cell_type": "code",
   "execution_count": 1,
   "metadata": {},
   "outputs": [],
   "source": [
    "import numpy as np\n",
    "import pandas as pd\n",
    "import matplotlib.pyplot as plt\n",
    "\n",
    "from sklearn.decomposition import PCA\n",
    "from sklearn.tree import DecisionTreeClassifier\n",
    "from sklearn.preprocessing import StandardScaler\n",
    "from sklearn.metrics import classification_report, mean_squared_error, confusion_matrix, accuracy_score\n",
    "from sklearn.neighbors import KNeighborsRegressor\n",
    "from sklearn.neighbors import KNeighborsClassifier\n",
    "from sklearn.ensemble import RandomForestClassifier\n",
    "from sklearn.model_selection import train_test_split"
   ]
  },
  {
   "cell_type": "code",
   "execution_count": 2,
   "metadata": {},
   "outputs": [
    {
     "name": "stdout",
     "output_type": "stream",
     "text": [
      "classif_facies_vec.ipynb  facies_vector_edit.csv  facies_vectors.csv\r\n"
     ]
    }
   ],
   "source": [
    "!ls"
   ]
  },
  {
   "cell_type": "code",
   "execution_count": 3,
   "metadata": {},
   "outputs": [],
   "source": [
    "df = pd.read_csv(\"facies_vector_edit.csv\")"
   ]
  },
  {
   "cell_type": "code",
   "execution_count": 4,
   "metadata": {},
   "outputs": [
    {
     "data": {
      "text/html": [
       "<div>\n",
       "<style scoped>\n",
       "    .dataframe tbody tr th:only-of-type {\n",
       "        vertical-align: middle;\n",
       "    }\n",
       "\n",
       "    .dataframe tbody tr th {\n",
       "        vertical-align: top;\n",
       "    }\n",
       "\n",
       "    .dataframe thead th {\n",
       "        text-align: right;\n",
       "    }\n",
       "</style>\n",
       "<table border=\"1\" class=\"dataframe\">\n",
       "  <thead>\n",
       "    <tr style=\"text-align: right;\">\n",
       "      <th></th>\n",
       "      <th>Facies</th>\n",
       "      <th>Formation</th>\n",
       "      <th>Well Name</th>\n",
       "      <th>Depth</th>\n",
       "      <th>GR</th>\n",
       "      <th>ILD_log10</th>\n",
       "      <th>DeltaPHI</th>\n",
       "      <th>PHIND</th>\n",
       "      <th>PE</th>\n",
       "      <th>NM_M</th>\n",
       "      <th>RELPOS</th>\n",
       "      <th>Labels_char</th>\n",
       "      <th>PHID</th>\n",
       "      <th>PHIN</th>\n",
       "      <th>Formation_num</th>\n",
       "      <th>Formation_numsk</th>\n",
       "    </tr>\n",
       "  </thead>\n",
       "  <tbody>\n",
       "    <tr>\n",
       "      <th>0</th>\n",
       "      <td>3</td>\n",
       "      <td>A1 SH</td>\n",
       "      <td>SHRIMPLIN</td>\n",
       "      <td>2793.0</td>\n",
       "      <td>77.45</td>\n",
       "      <td>0.664</td>\n",
       "      <td>9.9</td>\n",
       "      <td>11.915</td>\n",
       "      <td>4.6</td>\n",
       "      <td>1</td>\n",
       "      <td>1.000</td>\n",
       "      <td>Nonmarine fine siltstone</td>\n",
       "      <td>6.965</td>\n",
       "      <td>16.865</td>\n",
       "      <td>1.0</td>\n",
       "      <td>1</td>\n",
       "    </tr>\n",
       "    <tr>\n",
       "      <th>1</th>\n",
       "      <td>3</td>\n",
       "      <td>A1 SH</td>\n",
       "      <td>SHRIMPLIN</td>\n",
       "      <td>2793.5</td>\n",
       "      <td>78.26</td>\n",
       "      <td>0.661</td>\n",
       "      <td>14.2</td>\n",
       "      <td>12.565</td>\n",
       "      <td>4.1</td>\n",
       "      <td>1</td>\n",
       "      <td>0.979</td>\n",
       "      <td>Nonmarine fine siltstone</td>\n",
       "      <td>5.465</td>\n",
       "      <td>19.665</td>\n",
       "      <td>1.0</td>\n",
       "      <td>1</td>\n",
       "    </tr>\n",
       "    <tr>\n",
       "      <th>2</th>\n",
       "      <td>3</td>\n",
       "      <td>A1 SH</td>\n",
       "      <td>SHRIMPLIN</td>\n",
       "      <td>2794.0</td>\n",
       "      <td>79.05</td>\n",
       "      <td>0.658</td>\n",
       "      <td>14.8</td>\n",
       "      <td>13.050</td>\n",
       "      <td>3.6</td>\n",
       "      <td>1</td>\n",
       "      <td>0.957</td>\n",
       "      <td>Nonmarine fine siltstone</td>\n",
       "      <td>5.650</td>\n",
       "      <td>20.450</td>\n",
       "      <td>1.0</td>\n",
       "      <td>1</td>\n",
       "    </tr>\n",
       "    <tr>\n",
       "      <th>3</th>\n",
       "      <td>3</td>\n",
       "      <td>A1 SH</td>\n",
       "      <td>SHRIMPLIN</td>\n",
       "      <td>2794.5</td>\n",
       "      <td>86.10</td>\n",
       "      <td>0.655</td>\n",
       "      <td>13.9</td>\n",
       "      <td>13.115</td>\n",
       "      <td>3.5</td>\n",
       "      <td>1</td>\n",
       "      <td>0.936</td>\n",
       "      <td>Nonmarine fine siltstone</td>\n",
       "      <td>6.165</td>\n",
       "      <td>20.065</td>\n",
       "      <td>1.0</td>\n",
       "      <td>1</td>\n",
       "    </tr>\n",
       "    <tr>\n",
       "      <th>4</th>\n",
       "      <td>3</td>\n",
       "      <td>A1 SH</td>\n",
       "      <td>SHRIMPLIN</td>\n",
       "      <td>2795.0</td>\n",
       "      <td>74.58</td>\n",
       "      <td>0.647</td>\n",
       "      <td>13.5</td>\n",
       "      <td>13.300</td>\n",
       "      <td>3.4</td>\n",
       "      <td>1</td>\n",
       "      <td>0.915</td>\n",
       "      <td>Nonmarine fine siltstone</td>\n",
       "      <td>6.550</td>\n",
       "      <td>20.050</td>\n",
       "      <td>1.0</td>\n",
       "      <td>1</td>\n",
       "    </tr>\n",
       "  </tbody>\n",
       "</table>\n",
       "</div>"
      ],
      "text/plain": [
       "   Facies Formation  Well Name   Depth     GR  ILD_log10  DeltaPHI   PHIND  \\\n",
       "0       3     A1 SH  SHRIMPLIN  2793.0  77.45      0.664       9.9  11.915   \n",
       "1       3     A1 SH  SHRIMPLIN  2793.5  78.26      0.661      14.2  12.565   \n",
       "2       3     A1 SH  SHRIMPLIN  2794.0  79.05      0.658      14.8  13.050   \n",
       "3       3     A1 SH  SHRIMPLIN  2794.5  86.10      0.655      13.9  13.115   \n",
       "4       3     A1 SH  SHRIMPLIN  2795.0  74.58      0.647      13.5  13.300   \n",
       "\n",
       "    PE  NM_M  RELPOS               Labels_char   PHID    PHIN  Formation_num  \\\n",
       "0  4.6     1   1.000  Nonmarine fine siltstone  6.965  16.865            1.0   \n",
       "1  4.1     1   0.979  Nonmarine fine siltstone  5.465  19.665            1.0   \n",
       "2  3.6     1   0.957  Nonmarine fine siltstone  5.650  20.450            1.0   \n",
       "3  3.5     1   0.936  Nonmarine fine siltstone  6.165  20.065            1.0   \n",
       "4  3.4     1   0.915  Nonmarine fine siltstone  6.550  20.050            1.0   \n",
       "\n",
       "   Formation_numsk  \n",
       "0                1  \n",
       "1                1  \n",
       "2                1  \n",
       "3                1  \n",
       "4                1  "
      ]
     },
     "execution_count": 4,
     "metadata": {},
     "output_type": "execute_result"
    }
   ],
   "source": [
    "df.head()"
   ]
  },
  {
   "cell_type": "code",
   "execution_count": 5,
   "metadata": {
    "scrolled": true
   },
   "outputs": [
    {
     "name": "stdout",
     "output_type": "stream",
     "text": [
      "<class 'pandas.core.frame.DataFrame'>\n",
      "RangeIndex: 4149 entries, 0 to 4148\n",
      "Data columns (total 16 columns):\n",
      " #   Column           Non-Null Count  Dtype  \n",
      "---  ------           --------------  -----  \n",
      " 0   Facies           4149 non-null   int64  \n",
      " 1   Formation        4149 non-null   object \n",
      " 2   Well Name        4149 non-null   object \n",
      " 3   Depth            4149 non-null   float64\n",
      " 4   GR               4149 non-null   float64\n",
      " 5   ILD_log10        4149 non-null   float64\n",
      " 6   DeltaPHI         4149 non-null   float64\n",
      " 7   PHIND            4149 non-null   float64\n",
      " 8   PE               3232 non-null   float64\n",
      " 9   NM_M             4149 non-null   int64  \n",
      " 10  RELPOS           4149 non-null   float64\n",
      " 11  Labels_char      4149 non-null   object \n",
      " 12  PHID             4149 non-null   float64\n",
      " 13  PHIN             4149 non-null   float64\n",
      " 14  Formation_num    4149 non-null   float64\n",
      " 15  Formation_numsk  4149 non-null   int64  \n",
      "dtypes: float64(10), int64(3), object(3)\n",
      "memory usage: 518.8+ KB\n"
     ]
    }
   ],
   "source": [
    "df.info()"
   ]
  },
  {
   "cell_type": "code",
   "execution_count": 6,
   "metadata": {},
   "outputs": [],
   "source": [
    "columns = ['GR','ILD_log10','DeltaPHI','PHIND','NM_M'\n",
    "           ,'RELPOS','PHID','PHIN','Formation_num']"
   ]
  },
  {
   "cell_type": "code",
   "execution_count": 7,
   "metadata": {},
   "outputs": [
    {
     "data": {
      "text/html": [
       "<div>\n",
       "<style scoped>\n",
       "    .dataframe tbody tr th:only-of-type {\n",
       "        vertical-align: middle;\n",
       "    }\n",
       "\n",
       "    .dataframe tbody tr th {\n",
       "        vertical-align: top;\n",
       "    }\n",
       "\n",
       "    .dataframe thead th {\n",
       "        text-align: right;\n",
       "    }\n",
       "</style>\n",
       "<table border=\"1\" class=\"dataframe\">\n",
       "  <thead>\n",
       "    <tr style=\"text-align: right;\">\n",
       "      <th></th>\n",
       "      <th>GR</th>\n",
       "      <th>ILD_log10</th>\n",
       "      <th>DeltaPHI</th>\n",
       "      <th>PHIND</th>\n",
       "      <th>NM_M</th>\n",
       "      <th>RELPOS</th>\n",
       "      <th>PHID</th>\n",
       "      <th>PHIN</th>\n",
       "      <th>Formation_num</th>\n",
       "    </tr>\n",
       "  </thead>\n",
       "  <tbody>\n",
       "    <tr>\n",
       "      <th>0</th>\n",
       "      <td>77.45</td>\n",
       "      <td>0.664</td>\n",
       "      <td>9.9</td>\n",
       "      <td>11.915</td>\n",
       "      <td>1</td>\n",
       "      <td>1.000</td>\n",
       "      <td>6.965</td>\n",
       "      <td>16.865</td>\n",
       "      <td>1.0</td>\n",
       "    </tr>\n",
       "    <tr>\n",
       "      <th>1</th>\n",
       "      <td>78.26</td>\n",
       "      <td>0.661</td>\n",
       "      <td>14.2</td>\n",
       "      <td>12.565</td>\n",
       "      <td>1</td>\n",
       "      <td>0.979</td>\n",
       "      <td>5.465</td>\n",
       "      <td>19.665</td>\n",
       "      <td>1.0</td>\n",
       "    </tr>\n",
       "    <tr>\n",
       "      <th>2</th>\n",
       "      <td>79.05</td>\n",
       "      <td>0.658</td>\n",
       "      <td>14.8</td>\n",
       "      <td>13.050</td>\n",
       "      <td>1</td>\n",
       "      <td>0.957</td>\n",
       "      <td>5.650</td>\n",
       "      <td>20.450</td>\n",
       "      <td>1.0</td>\n",
       "    </tr>\n",
       "    <tr>\n",
       "      <th>3</th>\n",
       "      <td>86.10</td>\n",
       "      <td>0.655</td>\n",
       "      <td>13.9</td>\n",
       "      <td>13.115</td>\n",
       "      <td>1</td>\n",
       "      <td>0.936</td>\n",
       "      <td>6.165</td>\n",
       "      <td>20.065</td>\n",
       "      <td>1.0</td>\n",
       "    </tr>\n",
       "    <tr>\n",
       "      <th>4</th>\n",
       "      <td>74.58</td>\n",
       "      <td>0.647</td>\n",
       "      <td>13.5</td>\n",
       "      <td>13.300</td>\n",
       "      <td>1</td>\n",
       "      <td>0.915</td>\n",
       "      <td>6.550</td>\n",
       "      <td>20.050</td>\n",
       "      <td>1.0</td>\n",
       "    </tr>\n",
       "  </tbody>\n",
       "</table>\n",
       "</div>"
      ],
      "text/plain": [
       "      GR  ILD_log10  DeltaPHI   PHIND  NM_M  RELPOS   PHID    PHIN  \\\n",
       "0  77.45      0.664       9.9  11.915     1   1.000  6.965  16.865   \n",
       "1  78.26      0.661      14.2  12.565     1   0.979  5.465  19.665   \n",
       "2  79.05      0.658      14.8  13.050     1   0.957  5.650  20.450   \n",
       "3  86.10      0.655      13.9  13.115     1   0.936  6.165  20.065   \n",
       "4  74.58      0.647      13.5  13.300     1   0.915  6.550  20.050   \n",
       "\n",
       "   Formation_num  \n",
       "0            1.0  \n",
       "1            1.0  \n",
       "2            1.0  \n",
       "3            1.0  \n",
       "4            1.0  "
      ]
     },
     "execution_count": 7,
     "metadata": {},
     "output_type": "execute_result"
    }
   ],
   "source": [
    "df[columns].head()"
   ]
  },
  {
   "cell_type": "code",
   "execution_count": 8,
   "metadata": {},
   "outputs": [],
   "source": [
    "df_reg = df[~df['PE'].isnull()]"
   ]
  },
  {
   "cell_type": "code",
   "execution_count": 9,
   "metadata": {},
   "outputs": [],
   "source": [
    "X = df_reg[columns]\n",
    "y = df_reg['PE']"
   ]
  },
  {
   "cell_type": "code",
   "execution_count": 10,
   "metadata": {},
   "outputs": [],
   "source": [
    "X_train, X_test, y_train, y_test = train_test_split(X, y, test_size=0.25, random_state=42)"
   ]
  },
  {
   "cell_type": "code",
   "execution_count": 11,
   "metadata": {},
   "outputs": [],
   "source": [
    "knnr = KNeighborsRegressor()"
   ]
  },
  {
   "cell_type": "code",
   "execution_count": 12,
   "metadata": {},
   "outputs": [
    {
     "data": {
      "text/plain": [
       "KNeighborsRegressor()"
      ]
     },
     "execution_count": 12,
     "metadata": {},
     "output_type": "execute_result"
    }
   ],
   "source": [
    "knnr.fit(X_train, y_train)"
   ]
  },
  {
   "cell_type": "code",
   "execution_count": 13,
   "metadata": {},
   "outputs": [
    {
     "name": "stdout",
     "output_type": "stream",
     "text": [
      "Erro treinamento\n",
      "0.19444973125412543\n",
      "\n",
      "Erro teste\n",
      "0.3346668673267327\n"
     ]
    }
   ],
   "source": [
    "print('Erro treinamento')\n",
    "print(mean_squared_error(y_train,knnr.predict(X_train)))\n",
    "print('')\n",
    "print('Erro teste')\n",
    "print(mean_squared_error(y_test,knnr.predict(X_test)))"
   ]
  },
  {
   "cell_type": "code",
   "execution_count": 14,
   "metadata": {},
   "outputs": [],
   "source": [
    "mse_train = []\n",
    "mse_test = []\n",
    "for k in range(3,100,2):\n",
    "    knnr = KNeighborsRegressor(n_neighbors=k,n_jobs=-1)\n",
    "    knnr.fit(X_train, y_train)\n",
    "    mse_train.append(mean_squared_error(y_train,knnr.predict(X_train)))\n",
    "    mse_test.append(mean_squared_error(y_test,knnr.predict(X_test)))"
   ]
  },
  {
   "cell_type": "code",
   "execution_count": 51,
   "metadata": {},
   "outputs": [
    {
     "data": {
      "image/png": "[encoded data removed]",
      "text/plain": [
       "<Figure size 432x288 with 1 Axes>"
      ]
     },
     "metadata": {
      "needs_background": "light"
     },
     "output_type": "display_data"
    }
   ],
   "source": [
    "plt.plot(np.arange(3,100,2),mse_train,label='MSE Treino')\n",
    "plt.plot(np.arange(3,100,2),mse_test,label='MSE Teste')\n",
    "plt.xticks(np.arange(0,100,5))\n",
    "plt.legend()\n",
    "plt.grid()\n",
    "plt.tight_layout()"
   ]
  },
  {
   "cell_type": "code",
   "execution_count": 16,
   "metadata": {},
   "outputs": [
    {
     "name": "stderr",
     "output_type": "stream",
     "text": [
      "/home/jonh/anaconda3/lib/python3.7/site-packages/ipykernel_launcher.py:2: SettingWithCopyWarning: \n",
      "A value is trying to be set on a copy of a slice from a DataFrame\n",
      "\n",
      "See the caveats in the documentation: https://pandas.pydata.org/pandas-docs/stable/user_guide/indexing.html#returning-a-view-versus-a-copy\n",
      "  \n"
     ]
    }
   ],
   "source": [
    "df['PE_reg'] = df['PE'].copy()\n",
    "df['PE_reg'][df['PE'].isnull()] = knnr.predict(df[columns][df['PE'].isnull()])"
   ]
  },
  {
   "cell_type": "code",
   "execution_count": 17,
   "metadata": {},
   "outputs": [
    {
     "name": "stdout",
     "output_type": "stream",
     "text": [
      "<class 'pandas.core.frame.DataFrame'>\n",
      "RangeIndex: 4149 entries, 0 to 4148\n",
      "Data columns (total 17 columns):\n",
      " #   Column           Non-Null Count  Dtype  \n",
      "---  ------           --------------  -----  \n",
      " 0   Facies           4149 non-null   int64  \n",
      " 1   Formation        4149 non-null   object \n",
      " 2   Well Name        4149 non-null   object \n",
      " 3   Depth            4149 non-null   float64\n",
      " 4   GR               4149 non-null   float64\n",
      " 5   ILD_log10        4149 non-null   float64\n",
      " 6   DeltaPHI         4149 non-null   float64\n",
      " 7   PHIND            4149 non-null   float64\n",
      " 8   PE               3232 non-null   float64\n",
      " 9   NM_M             4149 non-null   int64  \n",
      " 10  RELPOS           4149 non-null   float64\n",
      " 11  Labels_char      4149 non-null   object \n",
      " 12  PHID             4149 non-null   float64\n",
      " 13  PHIN             4149 non-null   float64\n",
      " 14  Formation_num    4149 non-null   float64\n",
      " 15  Formation_numsk  4149 non-null   int64  \n",
      " 16  PE_reg           4149 non-null   float64\n",
      "dtypes: float64(11), int64(3), object(3)\n",
      "memory usage: 551.2+ KB\n"
     ]
    }
   ],
   "source": [
    "df.info()"
   ]
  },
  {
   "cell_type": "code",
   "execution_count": 18,
   "metadata": {},
   "outputs": [],
   "source": [
    "columns = ['GR','ILD_log10','DeltaPHI','PHIND','NM_M'\n",
    "           ,'RELPOS','PHID','PHIN','Formation_num','PE_reg']"
   ]
  },
  {
   "cell_type": "code",
   "execution_count": 19,
   "metadata": {},
   "outputs": [],
   "source": [
    "X = df[columns]\n",
    "y = df['Facies']"
   ]
  },
  {
   "cell_type": "code",
   "execution_count": 20,
   "metadata": {},
   "outputs": [],
   "source": [
    "X_train, X_test, y_train, y_test = train_test_split(X, y, test_size=0.25, random_state=42)"
   ]
  },
  {
   "cell_type": "code",
   "execution_count": 61,
   "metadata": {},
   "outputs": [],
   "source": [
    "dtc = DecisionTreeClassifier(max_depth=4)"
   ]
  },
  {
   "cell_type": "code",
   "execution_count": 62,
   "metadata": {},
   "outputs": [
    {
     "data": {
      "text/plain": [
       "DecisionTreeClassifier(max_depth=4)"
      ]
     },
     "execution_count": 62,
     "metadata": {},
     "output_type": "execute_result"
    }
   ],
   "source": [
    "dtc.fit(X_train, y_train)"
   ]
  },
  {
   "cell_type": "code",
   "execution_count": 64,
   "metadata": {},
   "outputs": [
    {
     "name": "stdout",
     "output_type": "stream",
     "text": [
      "Atributo \t Importância do atributo\n",
      "PHID \t\t 0.0\n",
      "DeltaPHI \t\t 0.013234223631612687\n",
      "Formation_num \t\t 0.01853524780676986\n",
      "RELPOS \t\t 0.02122218610955214\n",
      "PHIND \t\t 0.057483997202283525\n",
      "PE_reg \t\t 0.06551819341199087\n",
      "ILD_log10 \t\t 0.07539685634432951\n",
      "GR \t\t 0.10600985814133027\n",
      "PHIN \t\t 0.13066189283230253\n",
      "NM_M \t\t 0.5119375445198288\n"
     ]
    }
   ],
   "source": [
    "print('Atributo \\t Importância do atributo')\n",
    "for i,j in sorted(zip(dtc.feature_importances_,X_train.columns)):\n",
    "    print('%s \\t\\t %s'%(j,i))"
   ]
  },
  {
   "cell_type": "code",
   "execution_count": 65,
   "metadata": {},
   "outputs": [],
   "source": [
    "columns = ['GR','ILD_log10','PHIND','NM_M','RELPOS','PHIN','PE_reg']"
   ]
  },
  {
   "cell_type": "code",
   "execution_count": 92,
   "metadata": {},
   "outputs": [],
   "source": [
    "columns = ['GR','ILD_log10','DeltaPHI','PHIND','NM_M'\n",
    "           ,'RELPOS','PHID','PHIN','Formation_num','PE_reg']"
   ]
  },
  {
   "cell_type": "code",
   "execution_count": 93,
   "metadata": {},
   "outputs": [],
   "source": [
    "X = df[columns]\n",
    "y = df['Facies']"
   ]
  },
  {
   "cell_type": "code",
   "execution_count": 94,
   "metadata": {},
   "outputs": [],
   "source": [
    "X_train, X_test, y_train, y_test = train_test_split(X, y, test_size=0.25, random_state=42)"
   ]
  },
  {
   "cell_type": "code",
   "execution_count": 95,
   "metadata": {},
   "outputs": [
    {
     "data": {
      "text/plain": [
       "StandardScaler()"
      ]
     },
     "execution_count": 95,
     "metadata": {},
     "output_type": "execute_result"
    }
   ],
   "source": [
    "scaler = StandardScaler()\n",
    "scaler.fit(X_train)"
   ]
  },
  {
   "cell_type": "code",
   "execution_count": 96,
   "metadata": {},
   "outputs": [
    {
     "data": {
      "text/plain": [
       "PCA()"
      ]
     },
     "execution_count": 96,
     "metadata": {},
     "output_type": "execute_result"
    }
   ],
   "source": [
    "pca = PCA()\n",
    "pca.fit(scaler.transform(X_train))"
   ]
  },
  {
   "cell_type": "code",
   "execution_count": 97,
   "metadata": {},
   "outputs": [
    {
     "name": "stdout",
     "output_type": "stream",
     "text": [
      "Comp.1: 41.507367 - 41.507367\n",
      "Comp.2: 15.484642 - 56.992009\n",
      "Comp.3: 10.786287 - 67.778296\n",
      "Comp.4: 10.284840 - 78.063136\n",
      "Comp.5: 7.620906 - 85.684042\n",
      "Comp.6: 6.202124 - 91.886167\n",
      "Comp.7: 5.074559 - 96.960725\n",
      "Comp.8: 3.039275 - 100.000000\n",
      "Comp.9: 0.000000 - 100.000000\n",
      "Comp.10: 0.000000 - 100.000000\n"
     ]
    }
   ],
   "source": [
    "for i,comp in enumerate(pca.explained_variance_ratio_):\n",
    "    print(\"Comp.%i: %f - %f\"%(i+1, comp*100, pca.explained_variance_ratio_[:i+1].sum()*100))"
   ]
  },
  {
   "cell_type": "code",
   "execution_count": 113,
   "metadata": {},
   "outputs": [],
   "source": [
    "n_comps = 7"
   ]
  },
  {
   "cell_type": "code",
   "execution_count": 114,
   "metadata": {},
   "outputs": [],
   "source": [
    "X_train_pca =  pca.transform(scaler.transform(X_train))[:,:n_comps]"
   ]
  },
  {
   "cell_type": "code",
   "execution_count": 115,
   "metadata": {},
   "outputs": [
    {
     "data": {
      "text/plain": [
       "(3111, 7)"
      ]
     },
     "execution_count": 115,
     "metadata": {},
     "output_type": "execute_result"
    }
   ],
   "source": [
    "X_train_pca.shape"
   ]
  },
  {
   "cell_type": "code",
   "execution_count": 116,
   "metadata": {},
   "outputs": [],
   "source": [
    "labels = np.stack((df.Labels_char.unique(),df.Facies.unique()),axis=1)\n",
    "lb = pd.DataFrame(labels)\n",
    "labels_name=list(lb.sort_values(by=1)[0])"
   ]
  },
  {
   "cell_type": "code",
   "execution_count": 117,
   "metadata": {},
   "outputs": [],
   "source": [
    "X_test_pca = pca.transform(scaler.transform(X_test))[:,:n_comps]"
   ]
  },
  {
   "cell_type": "code",
   "execution_count": 118,
   "metadata": {},
   "outputs": [],
   "source": [
    "rfc = RandomForestClassifier()"
   ]
  },
  {
   "cell_type": "code",
   "execution_count": 119,
   "metadata": {},
   "outputs": [
    {
     "data": {
      "text/plain": [
       "RandomForestClassifier()"
      ]
     },
     "execution_count": 119,
     "metadata": {},
     "output_type": "execute_result"
    }
   ],
   "source": [
    "rfc.fit(X_train_pca, y_train)"
   ]
  },
  {
   "cell_type": "code",
   "execution_count": 120,
   "metadata": {},
   "outputs": [
    {
     "name": "stdout",
     "output_type": "stream",
     "text": [
      "                                        precision    recall  f1-score   support\n",
      "\n",
      "                   Nonmarine sandstone       1.00      1.00      1.00       203\n",
      "            Nonmarine coarse siltstone       1.00      1.00      1.00       686\n",
      "              Nonmarine fine siltstone       1.00      1.00      1.00       593\n",
      "            Marine siltstone and shale       1.00      1.00      1.00       206\n",
      "                  Mudstone (limestone)       1.00      1.00      1.00       230\n",
      "                Wackestone (limestone)       1.00      1.00      1.00       430\n",
      "                              Dolomite       0.98      1.00      0.99       100\n",
      "      Packstone-grainstone (limestone)       1.00      1.00      1.00       527\n",
      "Phylloid-algal bafflestone (limestone)       1.00      0.99      0.99       136\n",
      "\n",
      "                              accuracy                           1.00      3111\n",
      "                             macro avg       1.00      1.00      1.00      3111\n",
      "                          weighted avg       1.00      1.00      1.00      3111\n",
      "\n"
     ]
    }
   ],
   "source": [
    "print(classification_report(y_train,rfc.predict(X_train_pca),target_names=labels_name))"
   ]
  },
  {
   "cell_type": "code",
   "execution_count": 121,
   "metadata": {},
   "outputs": [
    {
     "name": "stdout",
     "output_type": "stream",
     "text": [
      "                                        precision    recall  f1-score   support\n",
      "\n",
      "                   Nonmarine sandstone       0.89      0.62      0.73        65\n",
      "            Nonmarine coarse siltstone       0.75      0.83      0.79       254\n",
      "              Nonmarine fine siltstone       0.74      0.75      0.74       187\n",
      "            Marine siltstone and shale       0.71      0.85      0.77        65\n",
      "                  Mudstone (limestone)       0.53      0.47      0.50        66\n",
      "                Wackestone (limestone)       0.67      0.63      0.65       152\n",
      "                              Dolomite       0.91      0.51      0.66        41\n",
      "      Packstone-grainstone (limestone)       0.69      0.77      0.73       159\n",
      "Phylloid-algal bafflestone (limestone)       0.92      0.73      0.82        49\n",
      "\n",
      "                              accuracy                           0.73      1038\n",
      "                             macro avg       0.76      0.69      0.71      1038\n",
      "                          weighted avg       0.73      0.73      0.72      1038\n",
      "\n"
     ]
    }
   ],
   "source": [
    "print(classification_report(y_test,rfc.predict(X_test_pca),target_names=labels_name))"
   ]
  },
  {
   "cell_type": "code",
   "execution_count": 122,
   "metadata": {},
   "outputs": [],
   "source": [
    "from sklearn.metrics import confusion_matrix,classification_report,accuracy_score,plot_confusion_matrix"
   ]
  },
  {
   "cell_type": "code",
   "execution_count": 123,
   "metadata": {},
   "outputs": [
    {
     "data": {
      "text/plain": [
       "<sklearn.metrics._plot.confusion_matrix.ConfusionMatrixDisplay at 0x7f536c072f50>"
      ]
     },
     "execution_count": 123,
     "metadata": {},
     "output_type": "execute_result"
    },
    {
     "data": {
      "image/png": "[encoded data removed]",
      "text/plain": [
       "<Figure size 720x720 with 2 Axes>"
      ]
     },
     "metadata": {
      "needs_background": "light"
     },
     "output_type": "display_data"
    }
   ],
   "source": [
    "fig,axes = plt.subplots(figsize=(10,10))\n",
    "plot_confusion_matrix(rfc,X_test_pca,y_test,display_labels=labels_name,xticks_rotation='vertical',ax=axes)"
   ]
  },
  {
   "cell_type": "code",
   "execution_count": 134,
   "metadata": {},
   "outputs": [],
   "source": [
    "knnc = KNeighborsClassifier(n_neighbors=3,p=4)"
   ]
  },
  {
   "cell_type": "code",
   "execution_count": 135,
   "metadata": {},
   "outputs": [
    {
     "data": {
      "text/plain": [
       "KNeighborsClassifier(n_neighbors=3, p=4)"
      ]
     },
     "execution_count": 135,
     "metadata": {},
     "output_type": "execute_result"
    }
   ],
   "source": [
    "knnc.fit(X_train_pca, y_train)"
   ]
  },
  {
   "cell_type": "code",
   "execution_count": 136,
   "metadata": {},
   "outputs": [
    {
     "name": "stdout",
     "output_type": "stream",
     "text": [
      "                                        precision    recall  f1-score   support\n",
      "\n",
      "                   Nonmarine sandstone       0.84      0.91      0.87       203\n",
      "            Nonmarine coarse siltstone       0.89      0.90      0.90       686\n",
      "              Nonmarine fine siltstone       0.89      0.90      0.89       593\n",
      "            Marine siltstone and shale       0.78      0.91      0.84       206\n",
      "                  Mudstone (limestone)       0.77      0.76      0.77       230\n",
      "                Wackestone (limestone)       0.85      0.82      0.84       430\n",
      "                              Dolomite       0.89      0.84      0.87       100\n",
      "      Packstone-grainstone (limestone)       0.91      0.83      0.87       527\n",
      "Phylloid-algal bafflestone (limestone)       0.94      0.94      0.94       136\n",
      "\n",
      "                              accuracy                           0.87      3111\n",
      "                             macro avg       0.86      0.87      0.86      3111\n",
      "                          weighted avg       0.87      0.87      0.87      3111\n",
      "\n"
     ]
    }
   ],
   "source": [
    "print(classification_report(y_train,knnc.predict(X_train_pca),target_names=labels_name))"
   ]
  },
  {
   "cell_type": "code",
   "execution_count": 137,
   "metadata": {},
   "outputs": [
    {
     "name": "stdout",
     "output_type": "stream",
     "text": [
      "                                        precision    recall  f1-score   support\n",
      "\n",
      "                   Nonmarine sandstone       0.69      0.85      0.76        65\n",
      "            Nonmarine coarse siltstone       0.78      0.80      0.79       254\n",
      "              Nonmarine fine siltstone       0.75      0.73      0.74       187\n",
      "            Marine siltstone and shale       0.64      0.83      0.72        65\n",
      "                  Mudstone (limestone)       0.62      0.59      0.60        66\n",
      "                Wackestone (limestone)       0.64      0.65      0.65       152\n",
      "                              Dolomite       0.84      0.66      0.74        41\n",
      "      Packstone-grainstone (limestone)       0.76      0.65      0.71       159\n",
      "Phylloid-algal bafflestone (limestone)       0.85      0.84      0.85        49\n",
      "\n",
      "                              accuracy                           0.73      1038\n",
      "                             macro avg       0.73      0.73      0.73      1038\n",
      "                          weighted avg       0.73      0.73      0.73      1038\n",
      "\n"
     ]
    }
   ],
   "source": [
    "print(classification_report(y_test,knnc.predict(X_test_pca),target_names=labels_name))"
   ]
  },
  {
   "cell_type": "code",
   "execution_count": 141,
   "metadata": {},
   "outputs": [],
   "source": [
    "accuracy_train = []\n",
    "accuracy_test = []\n",
    "for k in range(3,100,2):\n",
    "    knnc = KNeighborsClassifier(n_neighbors=k,n_jobs=-1)\n",
    "    knnc.fit(X_train_pca,y_train)\n",
    "    accuracy_train.append(accuracy_score(y_train,knnc.predict(X_train_pca)))\n",
    "    accuracy_test.append(accuracy_score(y_test,knnc.predict(X_test_pca)))"
   ]
  },
  {
   "cell_type": "code",
   "execution_count": 142,
   "metadata": {},
   "outputs": [
    {
     "data": {
      "image/png": "[encoded data removed]",
      "text/plain": [
       "<Figure size 432x288 with 1 Axes>"
      ]
     },
     "metadata": {
      "needs_background": "light"
     },
     "output_type": "display_data"
    }
   ],
   "source": [
    "plt.plot(np.arange(3,100,2),accuracy_train,label='Accuracy Treino')\n",
    "plt.plot(np.arange(3,100,2),accuracy_test,label='Accuracy Teste')\n",
    "plt.legend()\n",
    "plt.xticks(np.arange(0,100,6))\n",
    "plt.grid()\n",
    "plt.tight_layout()"
   ]
  },
  {
   "cell_type": "code",
   "execution_count": 131,
   "metadata": {},
   "outputs": [],
   "source": [
    "accuracy_train = []\n",
    "accuracy_test = []\n",
    "for i in range(1,10):\n",
    "    knnc = KNeighborsClassifier(n_neighbors=3,p=i,n_jobs=-1)\n",
    "    knnc.fit(X_train_pca,y_train)\n",
    "    accuracy_train.append(accuracy_score(y_train,knnc.predict(X_train_pca)))\n",
    "    accuracy_test.append(accuracy_score(y_test,knnc.predict(X_test_pca)))"
   ]
  },
  {
   "cell_type": "code",
   "execution_count": 133,
   "metadata": {},
   "outputs": [
    {
     "data": {
      "image/png": "[encoded data removed]",
      "text/plain": [
       "<Figure size 432x288 with 1 Axes>"
      ]
     },
     "metadata": {
      "needs_background": "light"
     },
     "output_type": "display_data"
    }
   ],
   "source": [
    "plt.plot(np.arange(1,10),accuracy_train,label='Accuracy Treino')\n",
    "plt.plot(np.arange(1,10),accuracy_test,label='Accuracy Teste')\n",
    "plt.legend()\n",
    "plt.xticks(np.arange(1,10))\n",
    "plt.grid()\n",
    "plt.tight_layout()"
   ]
  },
  {
   "cell_type": "code",
   "execution_count": null,
   "metadata": {},
   "outputs": [],
   "source": []
  }
 ],
 "metadata": {
  "kernelspec": {
   "display_name": "Python 3",
   "language": "python",
   "name": "python3"
  },
  "language_info": {
   "codemirror_mode": {
    "name": "ipython",
    "version": 3
   },
   "file_extension": ".py",
   "mimetype": "text/x-python",
   "name": "python",
   "nbconvert_exporter": "python",
   "pygments_lexer": "ipython3",
   "version": "3.7.9"
  }
 },
 "nbformat": 4,
 "nbformat_minor": 4
}
